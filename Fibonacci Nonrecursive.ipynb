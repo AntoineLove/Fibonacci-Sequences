{
 "cells": [
  {
   "cell_type": "code",
   "execution_count": null,
   "id": "dae3a3b1-4351-48b0-b9f6-5837f11c7a01",
   "metadata": {},
   "outputs": [],
   "source": [
    "def fib_list_nonrecursive(n):\n",
    "    '''A non-recursive implementation.  Given an integer n, returns a list of Fibonacci numbers\n",
    "    up to the nth value.'''\n",
    "    if type(n) != int:\n",
    "        return \"Please input an integer.\"\n",
    "    if n<=1:\n",
    "        return [1]\n",
    "    \n",
    "    fib_list = [1,1]\n",
    "    \n",
    "    for i in range(0,n-2):\n",
    "        fib_list.append(fib_list[i]+fib_list[i+1])\n",
    "    return fib_list"
   ]
  },
  {
   "cell_type": "code",
   "execution_count": null,
   "id": "894ff85d-e8bd-4741-9fb2-564194a7ebcb",
   "metadata": {},
   "outputs": [],
   "source": [
    "def fib_nonrecursive(n):\n",
    "    '''A non-recursive implementation.  Given an integer n, returns the nth Fibonacci number.\n",
    "    Complexity theta(n).'''\n",
    "    return gen_fib_list(n)[-1]"
   ]
  }
 ],
 "metadata": {
  "kernelspec": {
   "display_name": "Python 3",
   "language": "python",
   "name": "python3"
  },
  "language_info": {
   "codemirror_mode": {
    "name": "ipython",
    "version": 3
   },
   "file_extension": ".py",
   "mimetype": "text/x-python",
   "name": "python",
   "nbconvert_exporter": "python",
   "pygments_lexer": "ipython3",
   "version": "3.8.8"
  }
 },
 "nbformat": 4,
 "nbformat_minor": 5
}
