{
 "cells": [
  {
   "cell_type": "code",
   "execution_count": null,
   "id": "77679137-dace-4424-b096-cdedcfabc267",
   "metadata": {},
   "outputs": [],
   "source": [
    "def fib_recursive(n):\n",
    "    '''A recursive implementation.  Given an integer n, returns the nth Fibonacci number.\n",
    "    Complexity is exponential.'''\n",
    "    if type(n) != int:\n",
    "        return \"Please input an integer.\"\n",
    "    \n",
    "    if n<=1:\n",
    "        return 1\n",
    "    else:\n",
    "        return fib(n-1)+fib(n-2)"
   ]
  }
 ],
 "metadata": {
  "kernelspec": {
   "display_name": "Python 3",
   "language": "python",
   "name": "python3"
  },
  "language_info": {
   "codemirror_mode": {
    "name": "ipython",
    "version": 3
   },
   "file_extension": ".py",
   "mimetype": "text/x-python",
   "name": "python",
   "nbconvert_exporter": "python",
   "pygments_lexer": "ipython3",
   "version": "3.8.8"
  }
 },
 "nbformat": 4,
 "nbformat_minor": 5
}
