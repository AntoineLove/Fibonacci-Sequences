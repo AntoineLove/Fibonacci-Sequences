{
 "cells": [
  {
   "cell_type": "code",
   "execution_count": 8,
   "id": "9de7f1c7-adee-4789-81b0-af03e63a3c80",
   "metadata": {},
   "outputs": [],
   "source": [
    "def general_Fib_Nonrec(n,m,k):\n",
    "    \"\"\"Non-Recursive Implementation. Takes in 3 integers n, m, k and \n",
    "    returns the kth element of the generalized Fibonacci sequence \n",
    "    that starts as ...0,n,m,n+m, n+2m,\"\"\"\n",
    "    \n",
    "    return gen_general_Fib_Nonrec(n,m,k)[-1]"
   ]
  },
  {
   "cell_type": "code",
   "execution_count": 9,
   "id": "fe88246a-38c4-45e5-810a-08c35a8936de",
   "metadata": {},
   "outputs": [],
   "source": [
    "def gen_general_Fib_Nonrec(n,m,k):\n",
    "    '''Non-recursive implementation. Takes three integers n,m,k and returns \n",
    "    the list of generalized Fibonacci sequence values.'''\n",
    "    if type(n) != int:\n",
    "        return \"Please provide an integer value for the first argument.\"\n",
    "    if type(m) != int:\n",
    "        return \"Please provide an integer value for the second argument.\"\n",
    "    if type(k) != int:\n",
    "        return \"Please provide an integer value for the third argument.\"\n",
    "    \n",
    "    if k <= 1:\n",
    "        return [n]\n",
    "    if k == 2:\n",
    "        return [m]\n",
    "    \n",
    "    gen_fib_list = [n,m]\n",
    "    for i in range(0,k-2):\n",
    "        gen_fib_list.append(gen_fib_list[i]+gen_fib_list[i+1])\n",
    "    \n",
    "    return gen_fib_list"
   ]
  },
  {
   "cell_type": "code",
   "execution_count": 13,
   "id": "6f625f3c-f39b-43ed-acee-c41b5f50e8ed",
   "metadata": {},
   "outputs": [
    {
     "data": {
      "text/plain": [
       "[3, 7, 10, 17, 27, 44, 71, 115, 186, 301]"
      ]
     },
     "execution_count": 13,
     "metadata": {},
     "output_type": "execute_result"
    }
   ],
   "source": [
    "gen_general_Fib_Nonrec(3,7,10)"
   ]
  },
  {
   "cell_type": "code",
   "execution_count": 15,
   "id": "66df3416-e28a-49e0-9140-e62a8106e841",
   "metadata": {},
   "outputs": [
    {
     "data": {
      "text/plain": [
       "186"
      ]
     },
     "execution_count": 15,
     "metadata": {},
     "output_type": "execute_result"
    }
   ],
   "source": [
    "general_Fib_Nonrec(3,7,9)"
   ]
  },
  {
   "cell_type": "code",
   "execution_count": null,
   "id": "1518d8d2-1820-4f45-95fb-9cb818fbc795",
   "metadata": {},
   "outputs": [],
   "source": []
  }
 ],
 "metadata": {
  "kernelspec": {
   "display_name": "Python 3",
   "language": "python",
   "name": "python3"
  },
  "language_info": {
   "codemirror_mode": {
    "name": "ipython",
    "version": 3
   },
   "file_extension": ".py",
   "mimetype": "text/x-python",
   "name": "python",
   "nbconvert_exporter": "python",
   "pygments_lexer": "ipython3",
   "version": "3.8.8"
  }
 },
 "nbformat": 4,
 "nbformat_minor": 5
}
