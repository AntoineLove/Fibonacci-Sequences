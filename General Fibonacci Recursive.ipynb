{
 "cells": [
  {
   "cell_type": "code",
   "execution_count": 1,
   "id": "80376638-79e8-4d90-91fa-a2122b99be12",
   "metadata": {},
   "outputs": [],
   "source": [
    "def gen_Fib_Recur(n,m,k):\n",
    "    \"\"\"Recursive Implementation. Takes in 3 integers n, m, k and \n",
    "    returns the kth element of the generalized Fibonacci sequence \n",
    "    that starts as ...0,n,m,n+m, n+2m,\"\"\"\n",
    "    if type(n) != int:\n",
    "        return \"Please provide an integer value for the first argument.\"\n",
    "    if type(m) != int:\n",
    "        return \"Please provide an integer value for the second argument.\"\n",
    "    if type(k) != int:\n",
    "        return \"Please provide an integer value for the third argument.\"\n",
    "    \n",
    "    if k == 0:\n",
    "        return 0\n",
    "    elif k == 1:\n",
    "        return n\n",
    "    elif k == 2:\n",
    "        return m\n",
    "    else:\n",
    "        return gen_Fib(n,m,k-1)+gen_Fib(n,m,k-2)"
   ]
  },
  {
   "cell_type": "code",
   "execution_count": null,
   "id": "800d6b86-46ec-4878-8237-de7f4b799e69",
   "metadata": {},
   "outputs": [],
   "source": []
  }
 ],
 "metadata": {
  "kernelspec": {
   "display_name": "Python 3",
   "language": "python",
   "name": "python3"
  },
  "language_info": {
   "codemirror_mode": {
    "name": "ipython",
    "version": 3
   },
   "file_extension": ".py",
   "mimetype": "text/x-python",
   "name": "python",
   "nbconvert_exporter": "python",
   "pygments_lexer": "ipython3",
   "version": "3.8.8"
  }
 },
 "nbformat": 4,
 "nbformat_minor": 5
}
